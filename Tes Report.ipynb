{
    "cells": [
        {
            "metadata": {
                "collapsed": true
            },
            "cell_type": "markdown",
            "source": "# How to predict the best business to open in Rome\n"
        },
        {
            "metadata": {},
            "cell_type": "markdown",
            "source": "## Paolo Mammoliti"
        },
        {
            "metadata": {},
            "cell_type": "markdown",
            "source": "### 1. Introduction"
        },
        {
            "metadata": {},
            "cell_type": "markdown",
            "source": "#### 1.1 Background"
        },
        {
            "metadata": {},
            "cell_type": "markdown",
            "source": "In this new era Italy has been hit by recession since of the beginning of the last decade.\nMany Italians entrepreneurs struggled a lot to keep their business activity alive. The same happened to the entrepreneurs in Rome despite is the capital.\nEveryone knows about the history of Rome and unfortunately this is a shame to see her citizens struggling a lot to survive nowadays.\nHowever I think everyone would agree this city has still a lot to offer."
        },
        {
            "metadata": {},
            "cell_type": "markdown",
            "source": "#### 1.2 Problem"
        },
        {
            "metadata": {},
            "cell_type": "markdown",
            "source": "The purpose of my project is to help everyone who wants to open a new business in this beautiful city to understand which kind of business and where about in Rome is best to invest."
        },
        {
            "metadata": {},
            "cell_type": "markdown",
            "source": "#### 1.3 Interest"
        },
        {
            "metadata": {},
            "cell_type": "markdown",
            "source": "Every entrepreneurs who loves this city and wants to invest on a new business activity whatsoever."
        },
        {
            "metadata": {},
            "cell_type": "markdown",
            "source": "### 2. Data acquisition and cleaning"
        },
        {
            "metadata": {},
            "cell_type": "markdown",
            "source": "#### 2.1 Data sources"
        },
        {
            "metadata": {},
            "cell_type": "markdown",
            "source": "The data sources used for this project are:\n* The html table content taken from the website https://it.wikipedia.org/wiki/Municipi_di_Roma that displays the list of boroughs in Rome\n* A csv called \u201cdatiRoma.csv\u201d from my directory loaded and imported in the Jupyter notebook as data asset that displays the latitude and longitude of every borough\n* Foursquare API to get the list of every business activity on each borough"
        },
        {
            "metadata": {},
            "cell_type": "markdown",
            "source": "#### 2.2 Data cleaning"
        },
        {
            "metadata": {},
            "cell_type": "markdown",
            "source": "Using Python 3.6 as kernel for my Jupyter notebook I used several libraries such as pandas, bs4 (from Beautiful soup), requests to extract all the info needed from the mentioned above Wikipedia page table, cleaning the data to show it as data frame.\nIt listed the 15 boroughs plus the Population, Density, Area for each borough.\nThe second step was loading a csv file from my pc in the Jupyter notebook as data asset in order to import this utilizing the \u201cInsert to code \u2013 Pandas dataframe\u201d feature.\nAs the second data frame imported was showing the latitude and longitude for each borough, I merged this data frame with the first one to get a final one showing the boroughs, the latitude and longitude only.\nFinally with the Foursquare API I used the Client ID and Client Secret from my Foursquare account to get the geolocalization of Rome boroughs included with related venues."
        },
        {
            "metadata": {},
            "cell_type": "markdown",
            "source": "### 3. Methodology"
        },
        {
            "metadata": {},
            "cell_type": "markdown",
            "source": "- My methodology starts importing all the python libraries needed for my Jupyter notebook project: pandas; bs4; requests; numpy; geopy.geocoders; pandas.io.json; folium; KMeans; matplotlib.cm; matplotlib.cm\n- I'll proceed downloading the data "
        },
        {
            "metadata": {},
            "cell_type": "markdown",
            "source": "### 4. Results"
        },
        {
            "metadata": {},
            "cell_type": "markdown",
            "source": "### 5. Discussion"
        },
        {
            "metadata": {},
            "cell_type": "markdown",
            "source": "### 6. Conclusion"
        },
        {
            "metadata": {},
            "cell_type": "code",
            "source": "",
            "execution_count": null,
            "outputs": []
        }
    ],
    "metadata": {
        "kernelspec": {
            "name": "python3",
            "display_name": "Python 3.6",
            "language": "python"
        },
        "language_info": {
            "name": "python",
            "version": "3.6.9",
            "mimetype": "text/x-python",
            "codemirror_mode": {
                "name": "ipython",
                "version": 3
            },
            "pygments_lexer": "ipython3",
            "nbconvert_exporter": "python",
            "file_extension": ".py"
        }
    },
    "nbformat": 4,
    "nbformat_minor": 1
}