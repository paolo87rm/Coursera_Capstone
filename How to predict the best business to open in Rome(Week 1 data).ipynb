{
    "cells": [
        {
            "cell_type": "markdown",
            "metadata": {
                "collapsed": true
            },
            "source": "### How to predict the best business to open in Rome"
        },
        {
            "cell_type": "markdown",
            "metadata": {},
            "source": "2. Description of the data and how it will be used to solve the problem"
        },
        {
            "cell_type": "markdown",
            "metadata": {},
            "source": "The data sources used for this project are:\n* The html table content taken from the website https://it.wikipedia.org/wiki/Municipi_di_Roma that displays the list of boroughs in Rome\n* A csv called \u201cdatiRoma.csv\u201d from my directory loaded and imported in the Jupyter notebook as data asset that displays the latitude and longitude of every borough\n* Foursquare API to get the list of every business activity on each borough\n\nUsing Python 3.6 as kernel for my Jupyter notebook I'll use several libraries such as pandas, bs4 (from Beautiful soup), requests to extract all the info needed from the mentioned above Wikipedia page table, cleaning the data to show it as data frame.\nIt lists the 15 boroughs plus the Population, Density, Area for each borough.\nOn the second step I'll load a csv file from my pc into the Jupyter notebook as a data asset in order to import this utilizing the \u201cInsert to code \u2013 Pandas dataframe\u201d feature.\nAs the second data frame we'll import shows the latitude and longitude for each borough, I'll merge this data frame with the first one to get a final one showing the boroughs, the latitude and longitude only.\nFinally with the Foursquare API I'll utilize the Client ID and Client Secret from my Foursquare account to get the geolocalization of Rome boroughs included with related venues."
        },
        {
            "cell_type": "code",
            "execution_count": null,
            "metadata": {},
            "outputs": [],
            "source": ""
        }
    ],
    "metadata": {
        "kernelspec": {
            "display_name": "Python 3.6",
            "language": "python",
            "name": "python3"
        },
        "language_info": {
            "codemirror_mode": {
                "name": "ipython",
                "version": 3
            },
            "file_extension": ".py",
            "mimetype": "text/x-python",
            "name": "python",
            "nbconvert_exporter": "python",
            "pygments_lexer": "ipython3",
            "version": "3.6.9"
        }
    },
    "nbformat": 4,
    "nbformat_minor": 1
}