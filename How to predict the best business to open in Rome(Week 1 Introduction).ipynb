{
    "cells": [
        {
            "cell_type": "markdown",
            "metadata": {
                "collapsed": true
            },
            "source": "### How to predict the best business to open in Rome"
        },
        {
            "cell_type": "markdown",
            "metadata": {},
            "source": "1. Description of the problem and a discussion of the background"
        },
        {
            "cell_type": "markdown",
            "metadata": {},
            "source": "In this new era Italy has been hit by recession since of the beginning of the last decade.\nMany Italians entrepreneurs struggled a lot to keep their business activity alive. The same happened to the entrepreneurs in Rome despite is the capital.\nEveryone knows about the history of Rome and unfortunately this is a shame to see her citizens struggling a lot to survive nowadays.\nHowever I think everyone would agree this city has still a lot to offer.\nThe purpose of my project is to help everyone who wants to open a new business in this beautiful city to understand which kind of business and where about in Rome is best to invest."
        },
        {
            "cell_type": "code",
            "execution_count": null,
            "metadata": {},
            "outputs": [],
            "source": ""
        }
    ],
    "metadata": {
        "kernelspec": {
            "display_name": "Python 3.6",
            "language": "python",
            "name": "python3"
        },
        "language_info": {
            "codemirror_mode": {
                "name": "ipython",
                "version": 3
            },
            "file_extension": ".py",
            "mimetype": "text/x-python",
            "name": "python",
            "nbconvert_exporter": "python",
            "pygments_lexer": "ipython3",
            "version": "3.6.9"
        }
    },
    "nbformat": 4,
    "nbformat_minor": 1
}