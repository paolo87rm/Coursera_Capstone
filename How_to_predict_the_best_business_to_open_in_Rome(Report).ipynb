{
  "nbformat": 4,
  "nbformat_minor": 0,
  "metadata": {
    "kernelspec": {
      "name": "python3",
      "display_name": "Python 3.6",
      "language": "python"
    },
    "language_info": {
      "name": "python",
      "version": "3.6.9",
      "mimetype": "text/x-python",
      "codemirror_mode": {
        "name": "ipython",
        "version": 3
      },
      "pygments_lexer": "ipython3",
      "nbconvert_exporter": "python",
      "file_extension": ".py"
    },
    "colab": {
      "name": "How_to_predict_the_best_business_to_open_in_Rome(Report).ipynb",
      "provenance": [],
      "collapsed_sections": []
    }
  },
  "cells": [
    {
      "cell_type": "markdown",
      "metadata": {
        "collapsed": true,
        "id": "gZyYjgvaEv9Y",
        "colab_type": "text"
      },
      "source": [
        "# How to predict the best business to open in Rome(Report)\n"
      ]
    },
    {
      "cell_type": "markdown",
      "metadata": {
        "id": "VC1R48sTEv9f",
        "colab_type": "text"
      },
      "source": [
        "## Paolo Mammoliti"
      ]
    },
    {
      "cell_type": "markdown",
      "metadata": {
        "id": "erDNReRsEv9h",
        "colab_type": "text"
      },
      "source": [
        "### 1. Introduction"
      ]
    },
    {
      "cell_type": "markdown",
      "metadata": {
        "id": "oaYmsWjzEv9j",
        "colab_type": "text"
      },
      "source": [
        "#### 1.1 Background"
      ]
    },
    {
      "cell_type": "markdown",
      "metadata": {
        "id": "hTQxHDW7Ev9k",
        "colab_type": "text"
      },
      "source": [
        "In this new era Italy has been hit by recession since of the beginning of the last decade.\n",
        "Many Italians entrepreneurs struggled a lot to keep their business activity alive. The same happened to the entrepreneurs in Rome despite is the capital.\n",
        "Everyone knows about the history of Rome and unfortunately this is a shame to see her citizens struggling a lot to survive nowadays.\n",
        "However I think everyone would agree this city has still a lot to offer."
      ]
    },
    {
      "cell_type": "markdown",
      "metadata": {
        "id": "1I7yRPR-Ev9m",
        "colab_type": "text"
      },
      "source": [
        "#### 1.2 Problem"
      ]
    },
    {
      "cell_type": "markdown",
      "metadata": {
        "id": "g_iJmln0Ev9n",
        "colab_type": "text"
      },
      "source": [
        "The purpose of my project is to help everyone who wants to open a new business in this beautiful city to understand which kind of business and where about in Rome is best to invest."
      ]
    },
    {
      "cell_type": "markdown",
      "metadata": {
        "id": "0UiHxhkkEv9p",
        "colab_type": "text"
      },
      "source": [
        "#### 1.3 Interest"
      ]
    },
    {
      "cell_type": "markdown",
      "metadata": {
        "id": "O5QaYMr_Ev9q",
        "colab_type": "text"
      },
      "source": [
        "Every entrepreneurs who loves this city and wants to invest on a new business activity whatsoever."
      ]
    },
    {
      "cell_type": "markdown",
      "metadata": {
        "id": "tmrCCrlGEv9s",
        "colab_type": "text"
      },
      "source": [
        "### 2. Data acquisition and cleaning"
      ]
    },
    {
      "cell_type": "markdown",
      "metadata": {
        "id": "vKc92_23Ev9v",
        "colab_type": "text"
      },
      "source": [
        "#### 2.1 Data sources"
      ]
    },
    {
      "cell_type": "markdown",
      "metadata": {
        "id": "8syUEcp0Ev9w",
        "colab_type": "text"
      },
      "source": [
        "The data sources used for this project are:\n",
        "* The html table content taken from the website https://it.wikipedia.org/wiki/Municipi_di_Roma that displays the list of boroughs in Rome\n",
        "* A csv called “datiRoma.csv” from my directory loaded and imported in the Jupyter notebook as data asset that displays the latitude and longitude of every borough\n",
        "* Foursquare API to get the list of every business activity on each borough"
      ]
    },
    {
      "cell_type": "markdown",
      "metadata": {
        "id": "IGn-PzmfEv9y",
        "colab_type": "text"
      },
      "source": [
        "#### 2.2 Data cleaning"
      ]
    },
    {
      "cell_type": "markdown",
      "metadata": {
        "id": "ygszi3lCEv90",
        "colab_type": "text"
      },
      "source": [
        "Using Python 3.6 as kernel for my Jupyter notebook I used several libraries such as pandas, bs4 (from Beautiful soup), requests to extract all the info needed from the mentioned above Wikipedia page table, cleaning the data to show it as data frame.\n",
        "It listed the 15 boroughs plus the Population, Density, Area for each borough.\n",
        "The second step was loading a csv file from my pc in the Jupyter notebook as data asset in order to import this utilizing the “Insert to code – Pandas dataframe” feature.\n",
        "As the second data frame imported was showing the latitude and longitude for each borough, I merged this data frame with the first one to get a final one showing the boroughs, the latitude and longitude only.\n",
        "Finally with the Foursquare API I used the Client ID and Client Secret from my Foursquare account to get the geolocalization of Rome boroughs included with related venues."
      ]
    },
    {
      "cell_type": "markdown",
      "metadata": {
        "id": "d7m-8q-fEv91",
        "colab_type": "text"
      },
      "source": [
        "### 3. Methodology"
      ]
    },
    {
      "cell_type": "markdown",
      "metadata": {
        "id": "TULoCmXinNlO",
        "colab_type": "text"
      },
      "source": [
        "- My methodology starts importing all the python libraries needed for my Jupyter notebook project: pandas; bs4; requests; numpy; geopy.geocoders; pandas.io.json; folium; KMeans; matplotlib.cm; matplotlib.cm\n",
        "- I proceed loading a Roma borough's table with the names of All boroughs, population, area and density from the wikipedia page https://it.wikipedia.org/wiki/Municipi_di_Roma. The Beautifulsoup python library will be used to get the info from the html source and the pandas library will be used to model the dataframe needed for the next steps\n",
        "- After manipulating the data from the html wikipedia page I use another source from a csv file stored on my pc. To do that I load this on my jupyter notebook and using the pd.read_csv pandas code I get the boroughs, latitude and longitude info. I end merging the two dataframes using pd.merge\n",
        "- I now use the geolocator library to get the coordinates of Rome and using the folium map I finally display the map of Rome with the Circle markers showing the boroughs location (see the first figure below)\n",
        "\n",
        "<img src=\"http://drive.google.com/uc?export=view&id=1BYvYXONXYl0yP9JFCkClFeppDntaZyGq\">"
      ]
    },
    {
      "cell_type": "markdown",
      "metadata": {
        "id": "kUhiSQDVnknn",
        "colab_type": "text"
      },
      "source": [
        "- Utilizing my Foursquare API Client ID and Client Secret combined with the boroughs latitude and longitude from my dataframe I get the venues info based on each roman borough\n",
        "- I finally create 5 random clusters based on the venues category discriminance using the kmeans library (Fig 2 below)\n",
        "\n",
        "<img src=\"http://drive.google.com/uc?export=view&id=1BRUAHg-_QBzfNmB4usMPDFnsmlqWtTD8\">"
      ]
    },
    {
      "cell_type": "markdown",
      "metadata": {
        "id": "dLMckPWzEv94",
        "colab_type": "text"
      },
      "source": [
        "### 4. Results"
      ]
    },
    {
      "cell_type": "markdown",
      "metadata": {
        "id": "mtO1-kwfnq3O",
        "colab_type": "text"
      },
      "source": [
        "The produced results show the numbers below:\n",
        "- There are 84 unique venue's categories in the analised roman boroughs\n",
        "- The \"I Centro Storico\" borough shows the highest venues unique numbers (71) followed by \"X Ostia/Acilia\"(45)\n",
        "- \"Café\" together with \"Plaza\" are the most common venues categories(10)\n",
        "- Two of the clusters shows only 1 borough each \"XIV Monte Mario\" and \"IX Eur\"\n",
        "- Considering the boroughs with the first 3 highest density \"Café\" doesn't appear only in the borough \"I Centro Storico\" the one in the city centre which sees the \"Historic site\" as the most common venue(See pictures below)\n",
        "\n",
        "<img src=\"http://drive.google.com/uc?export=view&id=1J7XzLP5ccnYDJF_9NUZDO_LcdiJinTWi\">\n",
        "\n",
        "<img src=\"http://drive.google.com/uc?export=view&id=1Hx_1Q5va6-aoBeX4C_U0CWmDCCxC4-yA\">"
      ]
    },
    {
      "cell_type": "markdown",
      "metadata": {
        "id": "x_YtRBqrEv95",
        "colab_type": "text"
      },
      "source": [
        "### 5. Discussion"
      ]
    },
    {
      "cell_type": "markdown",
      "metadata": {
        "id": "6yx4NPuqffVn",
        "colab_type": "text"
      },
      "source": [
        "My analysis helped me to discover some useful info to make predictions on which kind of business would be worth it to open in Rome and where about.\n",
        "I would consider specific features as density of population, characteristic of the borough based on the top most common venue categories and the cluster analysis. Finally checking All the top most common categories as overall on each borough helps to understand which are the most common businesses opened in the city"
      ]
    },
    {
      "cell_type": "markdown",
      "metadata": {
        "id": "EK4a7zTsEv98",
        "colab_type": "text"
      },
      "source": [
        "### 6. Conclusion"
      ]
    },
    {
      "cell_type": "markdown",
      "metadata": {
        "id": "I3Jj3gKqhBg6",
        "colab_type": "text"
      },
      "source": [
        "We can now say that based on the analysis made, \"I Centro Storico\" would be a great borough where to open a \"Café\" business.\n",
        "We came up with this conclusion due to the borough to be the third one in order for highest density in the city, and the first one in order of highest density where the venue category \"Café\" doesn't appear between the top 10 most common venue category. It means there is still place there to succeed in this business.\n",
        "\"Café\" is also the most recurrent business in the roman boroughs(10), it means romans like it and also as the most centred borough of the city this sees millions of tourists coming every year to visit the historic area."
      ]
    },
    {
      "cell_type": "code",
      "metadata": {
        "id": "kpxnS8-VjU0x",
        "colab_type": "code",
        "colab": {}
      },
      "source": [
        ""
      ],
      "execution_count": null,
      "outputs": []
    }
  ]
}  
